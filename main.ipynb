{
  "cells": [
    {
      "cell_type": "markdown",
      "metadata": {
        "id": "view-in-github",
        "colab_type": "text"
      },
      "source": [
        "<a href=\"https://colab.research.google.com/github/AdityaMayukhSom/pytorch-loan-approval/blob/main/main.ipynb\" target=\"_parent\"><img src=\"https://colab.research.google.com/assets/colab-badge.svg\" alt=\"Open In Colab\"/></a>"
      ]
    },
    {
      "cell_type": "markdown",
      "source": [
        "Dataset Credit Kaggle: [Loan Approval Prediction Dataset](https://www.kaggle.com/datasets/architsharma01/loan-approval-prediction-dataset)"
      ],
      "metadata": {
        "id": "6PLlNJUp0AEf"
      }
    },
    {
      "cell_type": "code",
      "source": [
        "from google.colab import drive\n",
        "drive.mount('/content/drive')"
      ],
      "metadata": {
        "colab": {
          "base_uri": "https://localhost:8080/"
        },
        "id": "hYSIxhTxlIQ8",
        "outputId": "04d5611b-162b-4cec-93a3-315cbd6ea218"
      },
      "execution_count": null,
      "outputs": [
        {
          "output_type": "stream",
          "name": "stdout",
          "text": [
            "Drive already mounted at /content/drive; to attempt to forcibly remount, call drive.mount(\"/content/drive\", force_remount=True).\n"
          ]
        }
      ]
    },
    {
      "cell_type": "code",
      "source": [
        "%cd '/content/drive'"
      ],
      "metadata": {
        "id": "jvSBh7xXnoMB",
        "outputId": "ed5b8e5d-3640-4641-8f27-497cf9245161",
        "colab": {
          "base_uri": "https://localhost:8080/"
        }
      },
      "execution_count": null,
      "outputs": [
        {
          "output_type": "stream",
          "name": "stdout",
          "text": [
            "/content/drive\n"
          ]
        }
      ]
    },
    {
      "cell_type": "code",
      "source": [
        "%%capture\n",
        "!pip install shap transformers"
      ],
      "metadata": {
        "id": "mb6ydlK6zcrW"
      },
      "execution_count": null,
      "outputs": []
    },
    {
      "cell_type": "code",
      "execution_count": null,
      "metadata": {
        "id": "gdcGQsNCkOee"
      },
      "outputs": [],
      "source": [
        "import itertools, math\n",
        "import numpy as np\n",
        "import pandas as pd\n",
        "import matplotlib.pyplot as plt\n",
        "import seaborn as sns"
      ]
    },
    {
      "cell_type": "code",
      "source": [
        "from sklearn.metrics import classification_report\n",
        "from sklearn.metrics import confusion_matrix"
      ],
      "metadata": {
        "id": "y_DPzpKyXStZ"
      },
      "execution_count": null,
      "outputs": []
    },
    {
      "cell_type": "code",
      "execution_count": null,
      "metadata": {
        "id": "fd_2yllykOeg"
      },
      "outputs": [],
      "source": [
        "loan_dataset_path: str = \"/content/drive/MyDrive/Datasets/loan_approval_dataset.csv\""
      ]
    },
    {
      "cell_type": "code",
      "execution_count": null,
      "metadata": {
        "id": "jx1j5oJVkOeh",
        "colab": {
          "base_uri": "https://localhost:8080/"
        },
        "outputId": "40782a03-9834-454c-edb9-6dc8e8adc607"
      },
      "outputs": [
        {
          "output_type": "stream",
          "name": "stdout",
          "text": [
            "<class 'pandas.core.frame.DataFrame'>\n",
            "Index: 4269 entries, 1 to 4269\n",
            "Data columns (total 12 columns):\n",
            " #   Column                    Non-Null Count  Dtype \n",
            "---  ------                    --------------  ----- \n",
            " 0   no_of_dependents          4269 non-null   int64 \n",
            " 1   education                 4269 non-null   object\n",
            " 2   self_employed             4269 non-null   object\n",
            " 3   income_annum              4269 non-null   int64 \n",
            " 4   loan_amount               4269 non-null   int64 \n",
            " 5   loan_term                 4269 non-null   int64 \n",
            " 6   cibil_score               4269 non-null   int64 \n",
            " 7   residential_assets_value  4269 non-null   int64 \n",
            " 8   commercial_assets_value   4269 non-null   int64 \n",
            " 9   luxury_assets_value       4269 non-null   int64 \n",
            " 10  bank_asset_value          4269 non-null   int64 \n",
            " 11  loan_status               4269 non-null   object\n",
            "dtypes: int64(9), object(3)\n",
            "memory usage: 433.6+ KB\n"
          ]
        }
      ],
      "source": [
        "loan_df: pd.DataFrame = pd.read_csv(loan_dataset_path)\n",
        "loan_df.rename(columns=lambda name: name.strip(), inplace=True)\n",
        "loan_df.set_index(\"loan_id\", inplace=True)\n",
        "loan_df.info()"
      ]
    },
    {
      "cell_type": "code",
      "execution_count": null,
      "metadata": {
        "id": "LmHQ1XUekOek"
      },
      "outputs": [],
      "source": [
        "loan_df[\"education\"] = loan_df[\"education\"].str.strip()\n",
        "loan_df[\"self_employed\"] = loan_df[\"self_employed\"].str.strip()\n",
        "\n",
        "loan_df[\"loan_status\"] = (loan_df[\"loan_status\"] == \"Approved\").astype(int)\n",
        "loan_df[\"education\"] = (loan_df[\"education\"] == \"Graduate\").astype(int)\n",
        "loan_df[\"self_employed\"] = (loan_df[\"self_employed\"] == \"Yes\").astype(int)"
      ]
    },
    {
      "cell_type": "code",
      "execution_count": null,
      "metadata": {
        "id": "UE-5WS0jkOel"
      },
      "outputs": [],
      "source": [
        "def show_histogram():\n",
        "    for feature in loan_df.columns[:-1]:\n",
        "        plt.hist(\n",
        "            loan_df[loan_df[\"loan_status\"] == 1][feature],\n",
        "            color=\"blue\",\n",
        "            label=\"Accepted\",\n",
        "            alpha=0.7,\n",
        "            density=True,\n",
        "        )\n",
        "        plt.hist(\n",
        "            loan_df[loan_df[\"loan_status\"] == 0][feature],\n",
        "            color=\"red\",\n",
        "            label=\"Rejected\",\n",
        "            alpha=0.7,\n",
        "            density=True,\n",
        "        )\n",
        "        plt.title(feature)\n",
        "        plt.xlabel(feature)\n",
        "        plt.ylabel(\"Probability\")\n",
        "        plt.legend()\n",
        "        plt.show()"
      ]
    },
    {
      "cell_type": "code",
      "source": [
        "def show_pair_plot():\n",
        "    sns.pairplot(loan_df, hue='loan_status')"
      ],
      "metadata": {
        "id": "NjXKEWz6VaT2"
      },
      "execution_count": null,
      "outputs": []
    },
    {
      "cell_type": "code",
      "execution_count": null,
      "metadata": {
        "id": "aJErdNwhkOen"
      },
      "outputs": [],
      "source": [
        "from sklearn.preprocessing import StandardScaler\n",
        "from sklearn.metrics import classification_report\n",
        "from sklearn.model_selection import train_test_split"
      ]
    },
    {
      "cell_type": "code",
      "execution_count": null,
      "metadata": {
        "id": "gFC8XY8mkOeo"
      },
      "outputs": [],
      "source": [
        "X = loan_df[loan_df.columns[:-1]].values\n",
        "y = loan_df[loan_df.columns[-1]].values\n",
        "standard_scalar = StandardScaler()\n",
        "X = standard_scalar.fit_transform(X)\n",
        "X_train, X_test, y_train, y_test = train_test_split(\n",
        "    X, y, random_state=69, test_size=0.3, shuffle=True\n",
        ")"
      ]
    },
    {
      "cell_type": "code",
      "source": [
        "import torch\n",
        "import torch.nn as nn\n",
        "import torch.optim as optim\n",
        "from torch.utils.data import Dataset, DataLoader"
      ],
      "metadata": {
        "id": "LKD8mah-zQf7"
      },
      "execution_count": null,
      "outputs": []
    },
    {
      "cell_type": "code",
      "source": [
        "device = torch.device(\"cuda\" if torch.cuda.is_available() else \"cpu\")"
      ],
      "metadata": {
        "id": "9HQ8QsgHnpB5"
      },
      "execution_count": null,
      "outputs": []
    },
    {
      "cell_type": "code",
      "source": [
        "class Data(Dataset):\n",
        "    def __init__(self, X, y):\n",
        "        self.X = torch.from_numpy(X.astype(np.float64))\n",
        "        self.y = torch.from_numpy(y.astype(np.float64))\n",
        "        self.len = self.X.shape[0]\n",
        "\n",
        "    def __getitem__(self, index):\n",
        "        return self.X[index], self.y[index]\n",
        "\n",
        "    def __len__(self):\n",
        "        return self.len\n"
      ],
      "metadata": {
        "id": "smE9I2wvzZxK"
      },
      "execution_count": null,
      "outputs": []
    },
    {
      "cell_type": "code",
      "source": [
        "class MultiLayerPerceptron(nn.Module):\n",
        "    def __init__(self, input_dim, output_dim, hidden_dim):\n",
        "        super(MultiLayerPerceptron, self).__init__()\n",
        "        self.dropout = nn.Dropout(0.2)\n",
        "        self.layer1 = nn.Linear(input_dim, hidden_dim, dtype=torch.float64)\n",
        "        self.act1 = nn.ReLU()\n",
        "        self.layer2 = nn.Linear(hidden_dim, output_dim, dtype=torch.float64)\n",
        "        self.act2 = nn.Sigmoid()\n",
        "        nn.init.kaiming_uniform_(self.layer1.weight, nonlinearity=\"relu\")\n",
        "        nn.init.normal_(self.layer2.weight)\n",
        "\n",
        "    def forward(self, x):\n",
        "        x = self.dropout(x)\n",
        "        x = self.act1(self.layer1(x))\n",
        "        x = self.act2(self.layer2(x))\n",
        "        return x"
      ],
      "metadata": {
        "id": "3zCXEy3F3nMt"
      },
      "execution_count": null,
      "outputs": []
    },
    {
      "cell_type": "code",
      "source": [
        "# Helper function to train the model and return the validation result\n",
        "def model_train(model, train_dataloader, device, num_epochs=50, learning_rate=0.01) -> tuple[list[float], list[float]]:\n",
        "    accuracy_values, loss_values = [], []\n",
        "    loss_fn = nn.BCELoss()\n",
        "    optimizer = optim.Adam(model.parameters(), lr=learning_rate)\n",
        "\n",
        "    model.train()\n",
        "    for epoch in range(num_epochs):\n",
        "        loss_for_epoch = 0\n",
        "        correct_for_epoch = 0\n",
        "        for batch, (X_train_batch, y_train_batch) in enumerate(train_dataloader):\n",
        "            X_train_batch = X_train_batch.to(device)\n",
        "            y_train_batch = y_train_batch.to(device)\n",
        "\n",
        "            optimizer.zero_grad()\n",
        "            y_pred_batch = model(X_train_batch)\n",
        "\n",
        "            loss = loss_fn(y_pred_batch, y_train_batch.unsqueeze(-1))\n",
        "            loss_for_epoch += loss.item()\n",
        "            correct_for_epoch += math.floor(\n",
        "                torch.sum(\n",
        "                    torch.where(y_pred_batch < 0.5, 0, 1).view(-1) == y_train_batch.view(-1)\n",
        "                ).item()\n",
        "            )\n",
        "\n",
        "            loss.backward()\n",
        "            optimizer.step()\n",
        "\n",
        "        # adds the total average loss for one epoch into loss_values\n",
        "        loss_values.append(loss_for_epoch / train_dataloader.batch_size)\n",
        "        accuracy = correct_for_epoch / train_dataloader.dataset.len\n",
        "        accuracy_values.append(accuracy)\n",
        "\n",
        "    return accuracy_values, loss_values"
      ],
      "metadata": {
        "id": "AmtO5IObkxAz"
      },
      "execution_count": null,
      "outputs": []
    },
    {
      "cell_type": "code",
      "source": [
        "def model_evaluate(model, test_dataloader, device) -> float:\n",
        "    '''The model needs to be in the same device too.'''\n",
        "    model.eval() # evaluate accuracy after training\n",
        "    correct: int = 0 # stores the number of correct response given by the model\n",
        "\n",
        "    with torch.no_grad():\n",
        "        for batch, (X_test_batch, y_test_batch) in enumerate(test_dataloader):\n",
        "            X_test_batch = torch.Tensor(X_test_batch.to(device))\n",
        "            y_test_batch = torch.Tensor(y_test_batch.to(device))\n",
        "\n",
        "            outputs = model(X_test_batch)\n",
        "            predicted = torch.where(outputs < 0.5, 0, 1)\n",
        "\n",
        "            # Ensure predicted and y_test_batch have the same shape and data type\n",
        "            # without view conversion, broadcasting happens which produces a new tensor\n",
        "            # of size [batch_size x batch_size] which does not correspond to the tensor\n",
        "            # containing True where values match and False where values mismatch.\n",
        "            # item() is used to convert torch.Tensor type to a scalar numerical value.\n",
        "            correct += math.floor(torch.sum(predicted.view(-1) == y_test_batch.view(-1)).item())\n",
        "\n",
        "    accuracy: float = correct / test_dataloader.dataset.len\n",
        "    return accuracy"
      ],
      "metadata": {
        "id": "AVNNWia2JsOV"
      },
      "execution_count": null,
      "outputs": []
    },
    {
      "cell_type": "code",
      "source": [
        "batch_size = 64\n",
        "num_epochs = 120"
      ],
      "metadata": {
        "id": "oNBcjljGPoZF"
      },
      "execution_count": null,
      "outputs": []
    },
    {
      "cell_type": "code",
      "source": [
        "train_data = Data(X_train, y_train)\n",
        "train_dataloader = DataLoader(dataset=train_data, batch_size=batch_size, shuffle=True)\n",
        "\n",
        "test_data = Data(X_test, y_test)\n",
        "test_dataloader = DataLoader(dataset=test_data, batch_size=batch_size, shuffle=True)"
      ],
      "metadata": {
        "id": "lidX6L3T7UPa"
      },
      "execution_count": null,
      "outputs": []
    },
    {
      "cell_type": "code",
      "source": [
        "# Check it's working\n",
        "for batch, (X, y) in enumerate(train_dataloader):\n",
        "    print(f\"Batch: {batch+1}\")\n",
        "    print(f\"X shape: {X.shape}\")\n",
        "    print(f\"y shape: {y.shape}\")\n",
        "    break"
      ],
      "metadata": {
        "colab": {
          "base_uri": "https://localhost:8080/"
        },
        "id": "yepsSCOy7Yxt",
        "outputId": "bfcd7d94-0dd3-4c3c-d473-b86c34af9c3b"
      },
      "execution_count": null,
      "outputs": [
        {
          "output_type": "stream",
          "name": "stdout",
          "text": [
            "Batch: 1\n",
            "X shape: torch.Size([64, 11])\n",
            "y shape: torch.Size([64])\n"
          ]
        }
      ]
    },
    {
      "cell_type": "code",
      "source": [
        "# create model, train, and get accuracy\n",
        "model = MultiLayerPerceptron(11, 1, 32).to(device)\n",
        "accuracy_values, loss_values = model_train(model, train_dataloader, device, num_epochs=num_epochs)\n",
        "accuracy = model_evaluate(model, test_dataloader, device)\n",
        "print(\"Accuracy: %.2f\" % accuracy)"
      ],
      "metadata": {
        "colab": {
          "base_uri": "https://localhost:8080/"
        },
        "id": "JH88ZBQemKKi",
        "outputId": "87c1dabc-7c9c-4f61-d123-8459b66be899"
      },
      "execution_count": null,
      "outputs": [
        {
          "output_type": "stream",
          "name": "stdout",
          "text": [
            "Accuracy: 0.94\n"
          ]
        }
      ]
    },
    {
      "cell_type": "code",
      "source": [
        "accuracy_values = np.array(accuracy_values)\n",
        "loss_values = np.array(loss_values)\n",
        "step = np.linspace(0, num_epochs, len(loss_values))\n",
        "\n",
        "fig, ax = plt.subplots(figsize=(8,5))\n",
        "\n",
        "ax.plot(step, accuracy_values)\n",
        "ax.plot(step, loss_values)\n",
        "ax.set_title(\"Epoch-wise Loss & Accuracy\")\n",
        "ax.set_xlabel(\"Epochs\")\n",
        "ax.legend([\"accuracy\", \"loss\"], bbox_to_anchor=(1.1, 1.1), ncol=2)\n",
        "\n",
        "plt.show()"
      ],
      "metadata": {
        "colab": {
          "base_uri": "https://localhost:8080/",
          "height": 496
        },
        "id": "VT3IoLm48Kpe",
        "outputId": "551dfd37-c93c-487d-bb80-692639a6e3cf"
      },
      "execution_count": null,
      "outputs": [
        {
          "output_type": "display_data",
          "data": {
            "text/plain": [
              "<Figure size 800x500 with 1 Axes>"
            ],
            "image/png": "[encoded data removed]"
          },
          "metadata": {}
        }
      ]
    },
    {
      "cell_type": "code",
      "source": [
        "y_pred = model."
      ],
      "metadata": {
        "id": "3esFpgJ9fEqS"
      },
      "execution_count": null,
      "outputs": []
    }
  ],
  "metadata": {
    "kernelspec": {
      "display_name": "Python 3",
      "name": "python3"
    },
    "language_info": {
      "codemirror_mode": {
        "name": "ipython",
        "version": 3
      },
      "file_extension": ".py",
      "mimetype": "text/x-python",
      "name": "python",
      "nbconvert_exporter": "python",
      "pygments_lexer": "ipython3",
      "version": "3.11.9"
    },
    "colab": {
      "provenance": [],
      "include_colab_link": true
    }
  },
  "nbformat": 4,
  "nbformat_minor": 0
}